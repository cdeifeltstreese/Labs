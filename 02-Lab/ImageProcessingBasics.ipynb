{
 "cells": [
  {
   "cell_type": "markdown",
   "metadata": {},
   "source": [
    "# Lab 02: Basic image image processing\n",
    "\n",
    "The purpose of this lab is to practice doing math on images in space and/or time. We will also learn how to summarize information you extract from an image into variables that you can do statistics on or export for statistics in another program. "
   ]
  },
  {
   "cell_type": "markdown",
   "metadata": {},
   "source": [
    "## Preparation \n",
    "* Practice with variables math in jupyter notebook\n",
    "* Download imaging data"
   ]
  },
  {
   "cell_type": "markdown",
   "metadata": {},
   "source": [
    "## Math on images\n",
    "* Scaling\n",
    "* Thresholding\n",
    "* Extract values with a mask\n",
    "* Plot values extracted from an image in jupyter\n",
    "    * Extracted from space in anatomical\n",
    "    * Plot timeseries\n",
    "* Export values to a separate file for work later"
   ]
  },
  {
   "cell_type": "markdown",
   "metadata": {},
   "source": [
    "## Spatial transformations\n",
    "\n",
    "* Reslicing and interpolation\n",
    "* Affine registration"
   ]
  },
  {
   "cell_type": "markdown",
   "metadata": {},
   "source": [
    "## Practice Problems"
   ]
  },
  {
   "cell_type": "code",
   "execution_count": null,
   "metadata": {},
   "outputs": [],
   "source": []
  }
 ],
 "metadata": {
  "kernelspec": {
   "display_name": "Python 3",
   "language": "python",
   "name": "python3"
  },
  "language_info": {
   "codemirror_mode": {
    "name": "ipython",
    "version": 3
   },
   "file_extension": ".py",
   "mimetype": "text/x-python",
   "name": "python",
   "nbconvert_exporter": "python",
   "pygments_lexer": "ipython3",
   "version": "3.6.3"
  }
 },
 "nbformat": 4,
 "nbformat_minor": 2
}
