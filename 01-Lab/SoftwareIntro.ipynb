{
 "cells": [
  {
   "cell_type": "markdown",
   "metadata": {},
   "source": [
    "# Lab 01: SoftwareIntro\n",
    "The purpose of this homework is to guide you through opening the programs you've downloaded through Neurodebian and getting familiar with some of their basic functions.\n"
   ]
  },
  {
   "cell_type": "markdown",
   "metadata": {},
   "source": [
    "## Preparation "
   ]
  },
  {
   "cell_type": "markdown",
   "metadata": {},
   "source": [
    "### Download example data\n",
    "\n",
    "We will first download some practice MRI data from open science framework. While this is not a common outlet for scientists to share their MR imaging datasets, this is a useful repository for files that are larger than we would want to put on github and are in a simplified storage format for teaching and demonstrations like this one.\n",
    "\n",
    "Download from osf: https://osf.io/bprq5/\n",
    "\n",
    "After clicking on the link, you should see the download __lab01_images.tar.gz__ appear in your browser downloads. We will practice using the bash terminal to navigate to the Downloads folder, and to copy and unpack the download to our lab directory.\n"
   ]
  },
  {
   "cell_type": "code",
   "execution_count": 10,
   "metadata": {},
   "outputs": [],
   "source": [
    "%%bash\n",
    "#^the %% symbols tell the notebook to execute bash commands\n",
    "cd ~/Downloads  #change directories to the Downloads folder, the ~ is shorthand for \"home directory\"\n",
    "ls  #list the files there"
   ]
  },
  {
   "cell_type": "raw",
   "metadata": {},
   "source": [
    "%%bash\n",
    "pwd  #tell me where I am again?\n",
    "#when I move cells, I moved back to the 01-Lab directory,but I can still move the file to here\n",
    "mv /home/brain/Downloads/lab01_images.tar.gz ./lab01_images.tar.gz"
   ]
  },
  {
   "cell_type": "raw",
   "metadata": {},
   "source": [
    "%%bash\n",
    "ls #is it here?\n",
    "#unpack a tar file: tar -zxvf tar-archive-name.tar.gz\n",
    "tar -zxvf lab01_images.tar.gz"
   ]
  },
  {
   "cell_type": "code",
   "execution_count": 12,
   "metadata": {},
   "outputs": [
    {
     "name": "stdout",
     "output_type": "stream",
     "text": [
      "img\n",
      "lab01_images.tar.gz\n",
      "osfshare\n",
      "SoftwareIntro.ipynb\n"
     ]
    }
   ],
   "source": [
    "%%bash\n",
    "ls  #now osfshare is a directory, we will go into this directory to practice opening MR images"
   ]
  },
  {
   "cell_type": "code",
   "execution_count": 16,
   "metadata": {},
   "outputs": [
    {
     "name": "stdout",
     "output_type": "stream",
     "text": [
      "sub-97-T1w_brain_mask.nii.gz\n",
      "sub-97-T1w_brain.nii.gz\n",
      "sub-97-T1w_defaced.nii.gz\n",
      "sub-97_task-flanker_bold.nii.gz\n"
     ]
    }
   ],
   "source": [
    "%%bash\n",
    "cd osfshare\n",
    "ls  #list contents"
   ]
  },
  {
   "cell_type": "markdown",
   "metadata": {},
   "source": [
    "### Preview the data directly in jupyter\n",
    "\n",
    "We'll first get used to terms about the spatial orientation of an MR image. We'll use a viewer that is part of nipype, which is a collection of neuroimaging tools written in the python programming language. \n",
    "\n",
    "More information about the NiftiWidget can be found here: http://nipy.org/niwidgets/examples.html. "
   ]
  },
  {
   "cell_type": "markdown",
   "metadata": {},
   "source": [
    "__Import an example image that comes with the package__"
   ]
  },
  {
   "cell_type": "code",
   "execution_count": 40,
   "metadata": {
    "scrolled": true
   },
   "outputs": [
    {
     "data": {
      "text/plain": [
       "<matplotlib.figure.Figure at 0x7f180ab58fd0>"
      ]
     },
     "metadata": {},
     "output_type": "display_data"
    },
    {
     "data": {
      "application/vnd.jupyter.widget-view+json": {
       "model_id": "beedf47479d9437ea3f074e82a1674ea",
       "version_major": 2,
       "version_minor": 0
      },
      "text/html": [
       "<p>Failed to display Jupyter Widget of type <code>interactive</code>.</p>\n",
       "<p>\n",
       "  If you're reading this message in the Jupyter Notebook or JupyterLab Notebook, it may mean\n",
       "  that the widgets JavaScript is still loading. If this message persists, it\n",
       "  likely means that the widgets JavaScript library is either not installed or\n",
       "  not enabled. See the <a href=\"https://ipywidgets.readthedocs.io/en/stable/user_install.html\">Jupyter\n",
       "  Widgets Documentation</a> for setup instructions.\n",
       "</p>\n",
       "<p>\n",
       "  If you're reading this message in another frontend (for example, a static\n",
       "  rendering on GitHub or <a href=\"https://nbviewer.jupyter.org/\">NBViewer</a>),\n",
       "  it may mean that your frontend doesn't currently support widgets.\n",
       "</p>\n"
      ],
      "text/plain": [
       "interactive(children=(IntSlider(value=45, continuous_update=False, description='x', max=90), IntSlider(value=54, continuous_update=False, description='y', max=108), IntSlider(value=45, continuous_update=False, description='z', max=90), Dropdown(description='colormap', options=('viridis', 'Accent', 'Blues', 'BrBG', 'BuGn', 'BuPu', 'CMRmap', 'Dark2', 'GnBu', 'Greens', 'Greys', 'OrRd', 'Oranges', 'PRGn', 'Paired', 'Pastel1', 'Pastel2', 'PiYG', 'PuBu', 'PuBuGn', 'PuOr', 'PuRd', 'Purples', 'RdBu', 'RdGy', 'RdPu', 'RdYlBu', 'RdYlGn', 'Reds', 'Set1', 'Set2', 'Set3', 'Spectral', 'Vega10', 'Vega20', 'Vega20b', 'Vega20c', 'Wistia', 'YlGn', 'YlGnBu', 'YlOrBr', 'YlOrRd', 'afmhot', 'autumn', 'binary', 'bone', 'brg', 'bwr', 'cool', 'coolwarm', 'copper', 'cubehelix', 'flag', 'gist_earth', 'gist_gray', 'gist_heat', 'gist_ncar', 'gist_rainbow', 'gist_stern', 'gist_yarg', 'gnuplot', 'gnuplot2', 'gray', 'hot', 'hsv', 'jet', 'nipy_spectral', 'ocean', 'pink', 'prism', 'rainbow', 'seismic', 'spectral', 'spring', 'summer', 'tab10', 'tab20', 'tab20b', 'tab20c', 'terrain', 'winter'), value='viridis'), Output()), _dom_classes=('widget-interact',))"
      ]
     },
     "metadata": {},
     "output_type": "display_data"
    }
   ],
   "source": [
    "#import the widget from the niwidgets package\n",
    "from niwidgets import NiftiWidget   \n",
    "\n",
    "#import example data that comes with niwidgets\n",
    "from niwidgets import examplet1   \n",
    "\n",
    "#commands that open the image in the widget\n",
    "#test_widget = NiftiWidget(examplet1)\n",
    "test_widget.nifti_plotter()"
   ]
  },
  {
   "cell_type": "markdown",
   "metadata": {},
   "source": [
    "__Import our own image__ <br>\n",
    "What are some similarities and differences?"
   ]
  },
  {
   "cell_type": "code",
   "execution_count": 42,
   "metadata": {},
   "outputs": [
    {
     "data": {
      "text/plain": [
       "<matplotlib.figure.Figure at 0x7f180ac22400>"
      ]
     },
     "metadata": {},
     "output_type": "display_data"
    },
    {
     "data": {
      "application/vnd.jupyter.widget-view+json": {
       "model_id": "5b23d9738e744ddc87c621ca403c25d1",
       "version_major": 2,
       "version_minor": 0
      },
      "text/html": [
       "<p>Failed to display Jupyter Widget of type <code>interactive</code>.</p>\n",
       "<p>\n",
       "  If you're reading this message in the Jupyter Notebook or JupyterLab Notebook, it may mean\n",
       "  that the widgets JavaScript is still loading. If this message persists, it\n",
       "  likely means that the widgets JavaScript library is either not installed or\n",
       "  not enabled. See the <a href=\"https://ipywidgets.readthedocs.io/en/stable/user_install.html\">Jupyter\n",
       "  Widgets Documentation</a> for setup instructions.\n",
       "</p>\n",
       "<p>\n",
       "  If you're reading this message in another frontend (for example, a static\n",
       "  rendering on GitHub or <a href=\"https://nbviewer.jupyter.org/\">NBViewer</a>),\n",
       "  it may mean that your frontend doesn't currently support widgets.\n",
       "</p>\n"
      ],
      "text/plain": [
       "interactive(children=(IntSlider(value=119, continuous_update=False, description='x', max=239), IntSlider(value=127, continuous_update=False, description='y', max=255), IntSlider(value=127, continuous_update=False, description='z', max=255), Dropdown(description='colormap', options=('viridis', 'Accent', 'Blues', 'BrBG', 'BuGn', 'BuPu', 'CMRmap', 'Dark2', 'GnBu', 'Greens', 'Greys', 'OrRd', 'Oranges', 'PRGn', 'Paired', 'Pastel1', 'Pastel2', 'PiYG', 'PuBu', 'PuBuGn', 'PuOr', 'PuRd', 'Purples', 'RdBu', 'RdGy', 'RdPu', 'RdYlBu', 'RdYlGn', 'Reds', 'Set1', 'Set2', 'Set3', 'Spectral', 'Vega10', 'Vega20', 'Vega20b', 'Vega20c', 'Wistia', 'YlGn', 'YlGnBu', 'YlOrBr', 'YlOrRd', 'afmhot', 'autumn', 'binary', 'bone', 'brg', 'bwr', 'cool', 'coolwarm', 'copper', 'cubehelix', 'flag', 'gist_earth', 'gist_gray', 'gist_heat', 'gist_ncar', 'gist_rainbow', 'gist_stern', 'gist_yarg', 'gnuplot', 'gnuplot2', 'gray', 'hot', 'hsv', 'jet', 'nipy_spectral', 'ocean', 'pink', 'prism', 'rainbow', 'seismic', 'spectral', 'spring', 'summer', 'tab10', 'tab20', 'tab20b', 'tab20c', 'terrain', 'winter'), value='viridis'), Output()), _dom_classes=('widget-interact',))"
      ]
     },
     "metadata": {},
     "output_type": "display_data"
    }
   ],
   "source": [
    "#give our anatomical image a variable name\n",
    "mydata='./osfshare/sub-97-T1w_defaced.nii.gz'\n",
    "\n",
    "#what exactly does each do below\n",
    "#mydata_widget = NiftiWidget(mydata)\n",
    "mydata_widget.nifti_plotter()"
   ]
  },
  {
   "cell_type": "markdown",
   "metadata": {},
   "source": [
    "The images we have been viewing are high-resolution images using [T1 contrast](http://www.med.harvard.edu/aanlib/basicsMR.html), and the image format is [nifti](https://brainder.org/2012/09/23/the-nifti-file-format/). As you see above, the image is 3-dimensional and can be opened in 3 orthogonal views simultaneously; coronal, sagittal and axial views.The viewer above is useful for getting familiar with the x,y,and z \"planes\" of the iamge. Every 3-dimensional pixel in the image (called a voxel) has a unique x,y,z coordinate.  <br>\n",
    "<br>\n",
    "It is also common to refer to different parts of the image by their location in neuroanatomical terms: L, R, A, P, S, I (Left, Right, Anterior=front, Posterior=back, Superior=top, Inferior=bottom). We will see that some viewers will show us these labels and \"Left\" in the image is not always the \"Left\" part of the head! <br>\n",
    "<br>\n",
    "It may be obvious, but also note that in these images we cannot see at the level of single neurons. The anatomy we focus on with MRI is from a \"macroscopic\" view. \n"
   ]
  },
  {
   "cell_type": "markdown",
   "metadata": {},
   "source": [
    "## FSL package viewer\n",
    "\n",
    "A very common neuroimaging package is FSL. FSL has viewer that we can open in the bash terminal, and it has some very helpful features for understanding more about images.\n",
    "\n",
    "__We'll first see how to:__ <br>\n",
    "<br>\n",
    "__(a) learn basic information about the image attributes__ <br> \n",
    "-What kind of image is this <br>\n",
    "-What is the voxel size <br>\n",
    "-Others? <br>\n",
    "<br>\n",
    "__(b) look at the image histogram.__ <br>\n",
    "An image histogram shows the distribution of all the intensity values that make up the image. Looking at these is helpful to see what intensities are generally “brain” versus background and to get comfortable with the idea that images are a collection of voxels with different intensity values (e.g., see Handbook Figure 2.1, p14). The intensity values mean something about what tissue we *think* we’re seeing based on the physics of MRI. It is also helpful to remember that the basis of most image processing tools is signal processing and statistics on these intensity values to improve the detection of the \"signal\" we're interested in (e.g., brain structure or activity) from noise (e.g., motion). <br>\n",
    "-What is the range of values in our sub-97-T1w_defaced.nii.gz image <br>\n",
    "-Is the histogram multi-modal? What would that tell us?  <br>\n",
    "-What are the typical values for gray matter, white matter, and CSF? <br>\n",
    "<br>\n",
    "__(c) look at our functional image and its timeseries.__ <br>\n",
    "-Compare and contrast the image intensities of white matter and gray matter from the structural with the functional image. <br>\n",
    "-Show the image timeseries <br>\n",
    "-Show the movie of volumes over time, how many dimensions is the file? <br>\n",
    "-Compare the spatial resolution of the structural and functional <br>\n",
    "-Can we overlay the functional on top of the structural image? <br>"
   ]
  },
  {
   "cell_type": "code",
   "execution_count": 47,
   "metadata": {},
   "outputs": [
    {
     "name": "stdout",
     "output_type": "stream",
     "text": [
      "/home/brain/Labs/01-Lab\n"
     ]
    }
   ],
   "source": [
    "%%bash\n",
    "\n",
    "#the viewer version we'll use is called fslview, you can open it without opening an image by typing fslview\n",
    "#fslview\n",
    "pwd"
   ]
  },
  {
   "cell_type": "markdown",
   "metadata": {},
   "source": [
    "## Image meta-data\n",
    "\n",
    "In addition to the information in the image, another important aspect of data with the images is their meta-data (Handbook, p14). This information is often stored in a [header] (http://nipy.org/nibabel/nibabel_images.html#the-image-header) that is tagged onto the image file itself or as a separate file. For nifti images the header information is kept tagged onto the image itself, so it is a handy to know how to look at the header for images on the command line. We'll see how to do this with fsl and nibabel below."
   ]
  },
  {
   "cell_type": "code",
   "execution_count": 57,
   "metadata": {},
   "outputs": [],
   "source": [
    "import nibabel as nb\n",
    "import os\n",
    "\n",
    "#below is a different way to assign variable names to directories and files\n",
    "datadir=\"./osfshare/\"\n",
    "anat_file=os.path.join(datadir,\"sub-97-T1w_brain.nii.gz\")\n",
    "anat_file\n",
    "anat_image=nb.load(anat_file)\n",
    "func_file=os.path.join(datadir,\"sub-97_task-flanker_bold.nii.gz\")\n",
    "func_file\n",
    "func_image=nb.load(func_file)"
   ]
  },
  {
   "cell_type": "code",
   "execution_count": 63,
   "metadata": {},
   "outputs": [
    {
     "data": {
      "text/plain": [
       "(240, 256, 256)"
      ]
     },
     "execution_count": 63,
     "metadata": {},
     "output_type": "execute_result"
    }
   ],
   "source": [
    "#look at metadata for dimensions of our image, compare to what we saw with fslview\n",
    "anat_image.shape  "
   ]
  },
  {
   "cell_type": "code",
   "execution_count": 67,
   "metadata": {},
   "outputs": [
    {
     "name": "stdout",
     "output_type": "stream",
     "text": [
      "<class 'nibabel.nifti1.Nifti1Header'> object, endian='<'\n",
      "sizeof_hdr      : 348\n",
      "data_type       : b''\n",
      "db_name         : b''\n",
      "extents         : 0\n",
      "session_error   : 0\n",
      "regular         : b'r'\n",
      "dim_info        : 0\n",
      "dim             : [  3 240 256 256   1   1   1   1]\n",
      "intent_p1       : 0.0\n",
      "intent_p2       : 0.0\n",
      "intent_p3       : 0.0\n",
      "intent_code     : none\n",
      "datatype        : float32\n",
      "bitpix          : 32\n",
      "slice_start     : 0\n",
      "pixdim          : [-1.  1.  1.  1.  1.  0.  0.  0.]\n",
      "vox_offset      : 0.0\n",
      "scl_slope       : nan\n",
      "scl_inter       : nan\n",
      "slice_end       : 0\n",
      "slice_code      : unknown\n",
      "xyzt_units      : 10\n",
      "cal_max         : 0.0\n",
      "cal_min         : 0.0\n",
      "slice_duration  : 0.0\n",
      "toffset         : 0.0\n",
      "glmax           : 0\n",
      "glmin           : 0\n",
      "descrip         : b'FSL5.0'\n",
      "aux_file        : b''\n",
      "qform_code      : scanner\n",
      "sform_code      : scanner\n",
      "quatern_b       : 0.0\n",
      "quatern_c       : 1.0\n",
      "quatern_d       : 0.0\n",
      "qoffset_x       : 120.17796325683594\n",
      "qoffset_y       : -91.97175598144531\n",
      "qoffset_z       : -109.59886169433594\n",
      "srow_x          : [  -1.            0.            0.          120.17796326]\n",
      "srow_y          : [  0.           1.           0.         -91.97175598]\n",
      "srow_z          : [   0.            0.            1.         -109.59886169]\n",
      "intent_name     : b''\n",
      "magic           : b'n+1'\n"
     ]
    }
   ],
   "source": [
    "#header\n",
    "anat_image.header  #this is the header object\n",
    "print(anat_image.header)  #print it to the screen"
   ]
  },
  {
   "cell_type": "markdown",
   "metadata": {},
   "source": [
    "## Coordinate systems and affines\n",
    "\n",
    "As described in the Handbook (Ch 1), images are arrays of numbers. We also need to consider how that image is positioned in space, and we'll get a more hands-on look at this information here. Many of these examples are used from this excellent reference on [arrays](http://nipy.org/nibabel/coordinate_systems.html). In particular, be sure we discuss the [naming of reference spaces](http://nipy.org/nibabel/coordinate_systems.html#naming-reference-spaces) in relation to what we see below."
   ]
  },
  {
   "cell_type": "code",
   "execution_count": 114,
   "metadata": {},
   "outputs": [
    {
     "data": {
      "text/plain": [
       "<matplotlib.image.AxesImage at 0x7f18088cd2e8>"
      ]
     },
     "execution_count": 114,
     "metadata": {},
     "output_type": "execute_result"
    },
    {
     "data": {
      "image/png": "[encoded data removed]",
      "text/plain": [
       "<matplotlib.figure.Figure at 0x7f18088e44e0>"
      ]
     },
     "metadata": {},
     "output_type": "display_data"
    }
   ],
   "source": [
    "#let's plot the image with the coordinate system viewable\n",
    "import pylab as plt\n",
    "import seaborn as sns\n",
    "\n",
    "#anat_image.shape\n",
    "\n",
    "#the get_data() function allows us to access the actual data in the image object. This will load the image data into memory. \n",
    "data=anat_image.get_data()\n",
    "\n",
    "#try these different commands, what is happening here?\n",
    "\n",
    "plt.imshow(data[:,:,89],cmap=\"gray\")\n",
    "#plt.imshow(data[160,:,:],cmap=\"gray\")\n",
    "#plt.imshow(data[:,104,:],cmap=\"gray\")\n"
   ]
  },
  {
   "cell_type": "code",
   "execution_count": 111,
   "metadata": {},
   "outputs": [],
   "source": [
    "%%bash\n",
    "#now let's use fslview to visually compare coordinates for the image in voxel space (voxels) and scanner space (mm) \n",
    "#do you remember how to open fslview from the command line?"
   ]
  },
  {
   "cell_type": "markdown",
   "metadata": {},
   "source": [
    "Using matrices to represent the spatial transformations between different image \"spaces\". Review this [explanation](http://nipy.org/nibabel/coordinate_systems.html#the-affine-matrix-as-a-transformation-between-spaces) which complements and extends the information in the Handbook Box 2.3.1."
   ]
  },
  {
   "cell_type": "code",
   "execution_count": 112,
   "metadata": {},
   "outputs": [
    {
     "data": {
      "text/plain": [
       "array([[  -1.        ,    0.        ,    0.        ,  120.17796326],\n",
       "       [   0.        ,    1.        ,    0.        ,  -91.97175598],\n",
       "       [   0.        ,    0.        ,    1.        , -109.59886169],\n",
       "       [   0.        ,    0.        ,    0.        ,    1.        ]])"
      ]
     },
     "execution_count": 112,
     "metadata": {},
     "output_type": "execute_result"
    }
   ],
   "source": [
    "#look at affine array for our anatomical image\n",
    "#this  maps the voxel coordinates to scanner coordinates\n",
    "anat_image.affine"
   ]
  },
  {
   "cell_type": "code",
   "execution_count": 116,
   "metadata": {},
   "outputs": [],
   "source": [
    "%%bash\n",
    "\n",
    "#let's change the orientation of the image and see how it affects the affine matrix\n",
    "#show usage of fslswapdim, need commandline access to fsl\n"
   ]
  },
  {
   "cell_type": "markdown",
   "metadata": {
    "collapsed": true
   },
   "source": [
    "<br>\n",
    "## Practice problems \n",
    "\n",
    "Below we list some practice problems to review what we've learned."
   ]
  },
  {
   "cell_type": "markdown",
   "metadata": {},
   "source": [
    "1) Extract the dimensions of the functional image using nipype commands as we did for the anatomical above. Show your work below. Explain what the dimensions are and what they mean in words. (e.g., \"The dimensions of each volume are --- and the were --- volumes in the timeseries\"). "
   ]
  },
  {
   "cell_type": "code",
   "execution_count": null,
   "metadata": {},
   "outputs": [],
   "source": []
  },
  {
   "cell_type": "markdown",
   "metadata": {},
   "source": []
  },
  {
   "cell_type": "markdown",
   "metadata": {},
   "source": [
    "2) Compare the image intensity values for the structural and functional image for the same brain tissue types. What tissues are brightest in the T1-weighted structural image? How does this compare to the intensities in the T2-weighted functional image. Use a code cell below to give an example from a given coordinate, and explain your answer in words in the following markdown cell. It may also help to refer to Ch2 in our Handbook text. "
   ]
  },
  {
   "cell_type": "code",
   "execution_count": null,
   "metadata": {},
   "outputs": [],
   "source": []
  },
  {
   "cell_type": "markdown",
   "metadata": {},
   "source": []
  },
  {
   "cell_type": "markdown",
   "metadata": {},
   "source": [
    "3) Use what we learned about affine representations for images to explain why there a *-1* in the the [1,1] affine matrix element for our T1-weighted image, and what the values in column 4 refer to. YOu may wish to demonstrate with fslswapdim but only if you want to!"
   ]
  },
  {
   "cell_type": "markdown",
   "metadata": {},
   "source": []
  }
 ],
 "metadata": {
  "kernelspec": {
   "display_name": "Python 3",
   "language": "python",
   "name": "python3"
  },
  "language_info": {
   "codemirror_mode": {
    "name": "ipython",
    "version": 3
   },
   "file_extension": ".py",
   "mimetype": "text/x-python",
   "name": "python",
   "nbconvert_exporter": "python",
   "pygments_lexer": "ipython3",
   "version": "3.6.3"
  }
 },
 "nbformat": 4,
 "nbformat_minor": 2
}
